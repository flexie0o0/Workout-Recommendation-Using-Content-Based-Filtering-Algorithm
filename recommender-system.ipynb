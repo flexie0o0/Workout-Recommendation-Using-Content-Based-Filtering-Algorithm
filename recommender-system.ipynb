{
  "metadata": {
    "language_info": {
      "codemirror_mode": {
        "name": "python",
        "version": 3
      },
      "file_extension": ".py",
      "mimetype": "text/x-python",
      "name": "python",
      "nbconvert_exporter": "python",
      "pygments_lexer": "ipython3",
      "version": "3.8"
    },
    "kernelspec": {
      "name": "python",
      "display_name": "Python (Pyodide)",
      "language": "python"
    }
  },
  "nbformat_minor": 4,
  "nbformat": 4,
  "cells": [
    {
      "cell_type": "code",
      "source": "import pandas as pd\nimport numpy as np\nfrom sklearn.feature_extraction.text import TfidfVectorizer\nfrom sklearn.metrics.pairwise import linear_kernel\nfrom scipy.sparse import hstack",
      "metadata": {
        "trusted": true
      },
      "execution_count": 1,
      "outputs": []
    },
    {
      "cell_type": "code",
      "source": "df_videos = pd.read_csv(\"LatestCSV.CSV\")",
      "metadata": {
        "trusted": true
      },
      "execution_count": 3,
      "outputs": []
    },
    {
      "cell_type": "code",
      "source": "df_videos.head()",
      "metadata": {
        "trusted": true
      },
      "execution_count": 5,
      "outputs": [
        {
          "execution_count": 5,
          "output_type": "execute_result",
          "data": {
            "text/plain": "   video_id                   title  \\\n0         1       Band Calve Raises   \n1         2               Leg Press   \n2         3             Band Pushup   \n3         4  Band Romanian Deadlift   \n4         5                Band Row   \n\n                                         description body_part bodyweight  \\\n0  This is a band assisted workout targeted to ca...      Legs          f   \n1  This is a band assisted workout targeted to legs.      Legs          f   \n2  This is a band assisted workout targeted to ch...     Chest          f   \n3  This is a band assisted workout targeted to ha...      Legs          f   \n4  This is a band assisted workout targeted to back.      Back          f   \n\n  cable barbell dumbbell band                      video_url  \\\n0     f       f        f    t  https://streamable.com/ghkm75   \n1     f       f        f    t  https://streamable.com/v80f53   \n2     f       f        f    t  https://streamable.com/15zgeh   \n3     f       f        f    t  https://streamable.com/xiviu8   \n4     f       f        f    t  https://streamable.com/cuy5n7   \n\n                      side_video  \n0  https://streamable.com/gl1d0a  \n1  https://streamable.com/ffi3xi  \n2  https://streamable.com/rs5ie5  \n3  https://streamable.com/4zrvie  \n4  https://streamable.com/439576  ",
            "text/html": "<div>\n<style scoped>\n    .dataframe tbody tr th:only-of-type {\n        vertical-align: middle;\n    }\n\n    .dataframe tbody tr th {\n        vertical-align: top;\n    }\n\n    .dataframe thead th {\n        text-align: right;\n    }\n</style>\n<table border=\"1\" class=\"dataframe\">\n  <thead>\n    <tr style=\"text-align: right;\">\n      <th></th>\n      <th>video_id</th>\n      <th>title</th>\n      <th>description</th>\n      <th>body_part</th>\n      <th>bodyweight</th>\n      <th>cable</th>\n      <th>barbell</th>\n      <th>dumbbell</th>\n      <th>band</th>\n      <th>video_url</th>\n      <th>side_video</th>\n    </tr>\n  </thead>\n  <tbody>\n    <tr>\n      <th>0</th>\n      <td>1</td>\n      <td>Band Calve Raises</td>\n      <td>This is a band assisted workout targeted to ca...</td>\n      <td>Legs</td>\n      <td>f</td>\n      <td>f</td>\n      <td>f</td>\n      <td>f</td>\n      <td>t</td>\n      <td>https://streamable.com/ghkm75</td>\n      <td>https://streamable.com/gl1d0a</td>\n    </tr>\n    <tr>\n      <th>1</th>\n      <td>2</td>\n      <td>Leg Press</td>\n      <td>This is a band assisted workout targeted to legs.</td>\n      <td>Legs</td>\n      <td>f</td>\n      <td>f</td>\n      <td>f</td>\n      <td>f</td>\n      <td>t</td>\n      <td>https://streamable.com/v80f53</td>\n      <td>https://streamable.com/ffi3xi</td>\n    </tr>\n    <tr>\n      <th>2</th>\n      <td>3</td>\n      <td>Band Pushup</td>\n      <td>This is a band assisted workout targeted to ch...</td>\n      <td>Chest</td>\n      <td>f</td>\n      <td>f</td>\n      <td>f</td>\n      <td>f</td>\n      <td>t</td>\n      <td>https://streamable.com/15zgeh</td>\n      <td>https://streamable.com/rs5ie5</td>\n    </tr>\n    <tr>\n      <th>3</th>\n      <td>4</td>\n      <td>Band Romanian Deadlift</td>\n      <td>This is a band assisted workout targeted to ha...</td>\n      <td>Legs</td>\n      <td>f</td>\n      <td>f</td>\n      <td>f</td>\n      <td>f</td>\n      <td>t</td>\n      <td>https://streamable.com/xiviu8</td>\n      <td>https://streamable.com/4zrvie</td>\n    </tr>\n    <tr>\n      <th>4</th>\n      <td>5</td>\n      <td>Band Row</td>\n      <td>This is a band assisted workout targeted to back.</td>\n      <td>Back</td>\n      <td>f</td>\n      <td>f</td>\n      <td>f</td>\n      <td>f</td>\n      <td>t</td>\n      <td>https://streamable.com/cuy5n7</td>\n      <td>https://streamable.com/439576</td>\n    </tr>\n  </tbody>\n</table>\n</div>"
          },
          "metadata": {}
        }
      ]
    },
    {
      "cell_type": "code",
      "source": "df_videos['description']",
      "metadata": {
        "trusted": true
      },
      "execution_count": 6,
      "outputs": [
        {
          "execution_count": 6,
          "output_type": "execute_result",
          "data": {
            "text/plain": "0     This is a band assisted workout targeted to ca...\n1     This is a band assisted workout targeted to legs.\n2     This is a band assisted workout targeted to ch...\n3     This is a band assisted workout targeted to ha...\n4     This is a band assisted workout targeted to back.\n5     This is a band assisted workout targeted to qu...\n6     This is a band assisted workout targeted to back.\n7     This is a band assisted workout targeted to bi...\n8     This is a band assisted workout targeted to ch...\n9     This is a band assisted workout targeted to gl...\n10    This is a band assisted workout targeted to tr...\n11    This is a barbell workout targeted to abdominals.\n12          This is a barbell workout targeted to back.\n13          This is a barbell workout targeted to back.\n14        This is a barbell workout targeted to biceps.\n15    This is a barbell workout targeted to chest an...\n16        This is a barbell workout targeted to glutes.\n17    This is a barbell workout targeted to hamstrings.\n18    This is a barbell workout targeted to hamstrin...\n19         This is a barbell workout targeted to quads.\n20        This is a barbell workout targeted to calves.\n21     This is a barbell workout targeted to shoulders.\n22     This is a barbell workout targeted to shoulders.\n23       This is a barbell workout targeted to triceps.\n24    This is a body-weight workout targeted to calves.\n25    This is a body-weight workout targeted to ches...\n26    This is a body-weight workout targeted to tric...\n27      This is a body-weight workout targeted to core.\n28     This is a body-weight workout targeted to quads.\n29    This is a body-weight workout targeted to tric...\n30      This is a body-weight workout targeted to core.\n31      This is a body-weight workout targeted to core.\n32      This is a body-weight workout targeted to core.\n33    This is a body-weight workout targeted to tric...\n34    This is a body-weight workout targeted to glutes.\n35    This is a body-weight workout targeted to quad...\n36    This is a body-weight workout targeted to lowe...\n37           This is a cable workout targeted to chest.\n38          This is a cable workout targeted to glutes.\n39            This is a cable workout targeted to lats.\n40    This is a cable workout targeted to quads and ...\n41      This is a cable workout targeted to hamstrings.\n42           This is a cable workout targeted to chest.\n43       This is a cable workout targeted to shoulders.\n44           This is a cable workout targeted to Quads.\n45        This is a dumbbell workout targeted to chest.\n46    This is a dumbbell workout targeted to shoulders.\n47        This is a dumbbell workout targeted to quads.\n48     This is a dumbbell workout targeted to obliques.\n49         This is a dumbbell workout targeted to back.\n50       This is a dumbbell workout targeted to biceps.\n51        This is a dumbbell workout targeted to chest.\n52       This is a dumbbell workout targeted to glutes.\n53    This is a dumbbell workout targeted to hamstri...\n54       This is a dumbbell workout targeted to calves.\n55        This is a dumbbell workout targeted to quads.\n56    This is a dumbbell workout targeted to shoulders.\n57    This is a dumbbell workout targeted to shoulders.\n58      This is a dumbbell workout targeted to triceps.\nName: description, dtype: object"
          },
          "metadata": {}
        }
      ]
    },
    {
      "cell_type": "code",
      "source": "df_videos = df_videos[['video_id', 'title', 'description', 'body_part']]",
      "metadata": {
        "trusted": true
      },
      "execution_count": 7,
      "outputs": []
    },
    {
      "cell_type": "code",
      "source": "df_videos",
      "metadata": {
        "trusted": true
      },
      "execution_count": 8,
      "outputs": [
        {
          "execution_count": 8,
          "output_type": "execute_result",
          "data": {
            "text/plain": "    video_id                         title  \\\n0          1             Band Calve Raises   \n1          2                     Leg Press   \n2          3                   Band Pushup   \n3          4        Band Romanian Deadlift   \n4          5                      Band Row   \n5          6                    Band Squat   \n6          7  Kneeling Single Arm Pulldown   \n7          8              Biceps Band Curl   \n8          9          Kneeling Band Pushup   \n9         10          Band Glutes Kickback   \n10        11             Band Skullcrusher   \n11        12                        Sit up   \n12        13                 Bent Over Row   \n13        14                  Landmine Row   \n14        15           Barbell Biceps Curl   \n15        16          Inclined Bench Press   \n16        17                    Hip Thrust   \n17        18                 Reverse Lunge   \n18        19             Romanian Deadlift   \n19        20                High Bar Squat   \n20        21             Seated Calf Raise   \n21        22               Over Head Press   \n22        23                   Upright Row   \n23        24                  Skullcrusher   \n24        25                    Calf Raise   \n25        26                       Chin-up   \n26        27                          Dips   \n27        28                   Hollow Hold   \n28        29                 Lateral Lunge   \n29        30                   Pike Pushup   \n30        31              Side Plank Reach   \n31        32                 Russian Twist   \n32        33                 Forearm Plank   \n33        34                Decline Pushup   \n34        35       Bodyweight Glute Bridge   \n35        36      Bodyweight Reverse Lunge   \n36        37                     Supermans   \n37        38                   Chest Press   \n38        39                Glute Kickback   \n39        40                      Pullover   \n40        41       Cable Romanian Deadlift   \n41        42                Hamstring Curl   \n42        43                       Pec Fly   \n43        44               30 Degree Shrug   \n44        45                  Goblet Squat   \n45        46            Dumbbell Chest Fly   \n46        47        Neutral Overhead Press   \n47        48        Dumbbell Reverse Lunge   \n48        49                  Wood Chopper   \n49        50       Dumbbell Single Arm Row   \n50        51                 Twisting Curl   \n51        52          Dumbbell Bench Press   \n52        53         Bulgarian Split Squat   \n53        54    Dumbbell Romanian Deadlift   \n54        55           Dumbbell Calf Raise   \n55        56         Dumbbell Goblet Squat   \n56        57        Dumbbell Lateral Raise   \n57        58            Laying Reverse Fly   \n58        59         Dumbbell Skullcrusher   \n\n                                          description   body_part  \n0   This is a band assisted workout targeted to ca...        Legs  \n1   This is a band assisted workout targeted to legs.        Legs  \n2   This is a band assisted workout targeted to ch...       Chest  \n3   This is a band assisted workout targeted to ha...        Legs  \n4   This is a band assisted workout targeted to back.        Back  \n5   This is a band assisted workout targeted to qu...        Legs  \n6   This is a band assisted workout targeted to back.        Back  \n7   This is a band assisted workout targeted to bi...      Biceps  \n8   This is a band assisted workout targeted to ch...       Chest  \n9   This is a band assisted workout targeted to gl...        Legs  \n10  This is a band assisted workout targeted to tr...     Triceps  \n11  This is a barbell workout targeted to abdominals.  Abdominals  \n12        This is a barbell workout targeted to back.        Back  \n13        This is a barbell workout targeted to back.        Back  \n14      This is a barbell workout targeted to biceps.      Biceps  \n15  This is a barbell workout targeted to chest an...       Chest  \n16      This is a barbell workout targeted to glutes.        Legs  \n17  This is a barbell workout targeted to hamstrings.        Legs  \n18  This is a barbell workout targeted to hamstrin...        Legs  \n19       This is a barbell workout targeted to quads.        Legs  \n20      This is a barbell workout targeted to calves.        Legs  \n21   This is a barbell workout targeted to shoulders.   Shoulders  \n22   This is a barbell workout targeted to shoulders.   Shoulders  \n23     This is a barbell workout targeted to triceps.     Triceps  \n24  This is a body-weight workout targeted to calves.        Legs  \n25  This is a body-weight workout targeted to ches...      Biceps  \n26  This is a body-weight workout targeted to tric...     Triceps  \n27    This is a body-weight workout targeted to core.  Abdominals  \n28   This is a body-weight workout targeted to quads.        Legs  \n29  This is a body-weight workout targeted to tric...     Triceps  \n30    This is a body-weight workout targeted to core.  Abdominals  \n31    This is a body-weight workout targeted to core.  Abdominals  \n32    This is a body-weight workout targeted to core.  Abdominals  \n33  This is a body-weight workout targeted to tric...     Triceps  \n34  This is a body-weight workout targeted to glutes.        Legs  \n35  This is a body-weight workout targeted to quad...        Legs  \n36  This is a body-weight workout targeted to lowe...        Back  \n37         This is a cable workout targeted to chest.       Chest  \n38        This is a cable workout targeted to glutes.        Legs  \n39          This is a cable workout targeted to lats.        Back  \n40  This is a cable workout targeted to quads and ...        Legs  \n41    This is a cable workout targeted to hamstrings.     Triceps  \n42         This is a cable workout targeted to chest.       Chest  \n43     This is a cable workout targeted to shoulders.   Shoulders  \n44         This is a cable workout targeted to Quads.        Legs  \n45      This is a dumbbell workout targeted to chest.       Chest  \n46  This is a dumbbell workout targeted to shoulders.   Shoulders  \n47      This is a dumbbell workout targeted to quads.        Legs  \n48   This is a dumbbell workout targeted to obliques.  Abdominals  \n49       This is a dumbbell workout targeted to back.        Back  \n50     This is a dumbbell workout targeted to biceps.      Biceps  \n51      This is a dumbbell workout targeted to chest.       Chest  \n52     This is a dumbbell workout targeted to glutes.      Glutes  \n53  This is a dumbbell workout targeted to hamstri...        Legs  \n54     This is a dumbbell workout targeted to calves.        Legs  \n55      This is a dumbbell workout targeted to quads.        Legs  \n56  This is a dumbbell workout targeted to shoulders.   Shoulders  \n57  This is a dumbbell workout targeted to shoulders.   Shoulders  \n58    This is a dumbbell workout targeted to triceps.     Triceps  ",
            "text/html": "<div>\n<style scoped>\n    .dataframe tbody tr th:only-of-type {\n        vertical-align: middle;\n    }\n\n    .dataframe tbody tr th {\n        vertical-align: top;\n    }\n\n    .dataframe thead th {\n        text-align: right;\n    }\n</style>\n<table border=\"1\" class=\"dataframe\">\n  <thead>\n    <tr style=\"text-align: right;\">\n      <th></th>\n      <th>video_id</th>\n      <th>title</th>\n      <th>description</th>\n      <th>body_part</th>\n    </tr>\n  </thead>\n  <tbody>\n    <tr>\n      <th>0</th>\n      <td>1</td>\n      <td>Band Calve Raises</td>\n      <td>This is a band assisted workout targeted to ca...</td>\n      <td>Legs</td>\n    </tr>\n    <tr>\n      <th>1</th>\n      <td>2</td>\n      <td>Leg Press</td>\n      <td>This is a band assisted workout targeted to legs.</td>\n      <td>Legs</td>\n    </tr>\n    <tr>\n      <th>2</th>\n      <td>3</td>\n      <td>Band Pushup</td>\n      <td>This is a band assisted workout targeted to ch...</td>\n      <td>Chest</td>\n    </tr>\n    <tr>\n      <th>3</th>\n      <td>4</td>\n      <td>Band Romanian Deadlift</td>\n      <td>This is a band assisted workout targeted to ha...</td>\n      <td>Legs</td>\n    </tr>\n    <tr>\n      <th>4</th>\n      <td>5</td>\n      <td>Band Row</td>\n      <td>This is a band assisted workout targeted to back.</td>\n      <td>Back</td>\n    </tr>\n    <tr>\n      <th>5</th>\n      <td>6</td>\n      <td>Band Squat</td>\n      <td>This is a band assisted workout targeted to qu...</td>\n      <td>Legs</td>\n    </tr>\n    <tr>\n      <th>6</th>\n      <td>7</td>\n      <td>Kneeling Single Arm Pulldown</td>\n      <td>This is a band assisted workout targeted to back.</td>\n      <td>Back</td>\n    </tr>\n    <tr>\n      <th>7</th>\n      <td>8</td>\n      <td>Biceps Band Curl</td>\n      <td>This is a band assisted workout targeted to bi...</td>\n      <td>Biceps</td>\n    </tr>\n    <tr>\n      <th>8</th>\n      <td>9</td>\n      <td>Kneeling Band Pushup</td>\n      <td>This is a band assisted workout targeted to ch...</td>\n      <td>Chest</td>\n    </tr>\n    <tr>\n      <th>9</th>\n      <td>10</td>\n      <td>Band Glutes Kickback</td>\n      <td>This is a band assisted workout targeted to gl...</td>\n      <td>Legs</td>\n    </tr>\n    <tr>\n      <th>10</th>\n      <td>11</td>\n      <td>Band Skullcrusher</td>\n      <td>This is a band assisted workout targeted to tr...</td>\n      <td>Triceps</td>\n    </tr>\n    <tr>\n      <th>11</th>\n      <td>12</td>\n      <td>Sit up</td>\n      <td>This is a barbell workout targeted to abdominals.</td>\n      <td>Abdominals</td>\n    </tr>\n    <tr>\n      <th>12</th>\n      <td>13</td>\n      <td>Bent Over Row</td>\n      <td>This is a barbell workout targeted to back.</td>\n      <td>Back</td>\n    </tr>\n    <tr>\n      <th>13</th>\n      <td>14</td>\n      <td>Landmine Row</td>\n      <td>This is a barbell workout targeted to back.</td>\n      <td>Back</td>\n    </tr>\n    <tr>\n      <th>14</th>\n      <td>15</td>\n      <td>Barbell Biceps Curl</td>\n      <td>This is a barbell workout targeted to biceps.</td>\n      <td>Biceps</td>\n    </tr>\n    <tr>\n      <th>15</th>\n      <td>16</td>\n      <td>Inclined Bench Press</td>\n      <td>This is a barbell workout targeted to chest an...</td>\n      <td>Chest</td>\n    </tr>\n    <tr>\n      <th>16</th>\n      <td>17</td>\n      <td>Hip Thrust</td>\n      <td>This is a barbell workout targeted to glutes.</td>\n      <td>Legs</td>\n    </tr>\n    <tr>\n      <th>17</th>\n      <td>18</td>\n      <td>Reverse Lunge</td>\n      <td>This is a barbell workout targeted to hamstrings.</td>\n      <td>Legs</td>\n    </tr>\n    <tr>\n      <th>18</th>\n      <td>19</td>\n      <td>Romanian Deadlift</td>\n      <td>This is a barbell workout targeted to hamstrin...</td>\n      <td>Legs</td>\n    </tr>\n    <tr>\n      <th>19</th>\n      <td>20</td>\n      <td>High Bar Squat</td>\n      <td>This is a barbell workout targeted to quads.</td>\n      <td>Legs</td>\n    </tr>\n    <tr>\n      <th>20</th>\n      <td>21</td>\n      <td>Seated Calf Raise</td>\n      <td>This is a barbell workout targeted to calves.</td>\n      <td>Legs</td>\n    </tr>\n    <tr>\n      <th>21</th>\n      <td>22</td>\n      <td>Over Head Press</td>\n      <td>This is a barbell workout targeted to shoulders.</td>\n      <td>Shoulders</td>\n    </tr>\n    <tr>\n      <th>22</th>\n      <td>23</td>\n      <td>Upright Row</td>\n      <td>This is a barbell workout targeted to shoulders.</td>\n      <td>Shoulders</td>\n    </tr>\n    <tr>\n      <th>23</th>\n      <td>24</td>\n      <td>Skullcrusher</td>\n      <td>This is a barbell workout targeted to triceps.</td>\n      <td>Triceps</td>\n    </tr>\n    <tr>\n      <th>24</th>\n      <td>25</td>\n      <td>Calf Raise</td>\n      <td>This is a body-weight workout targeted to calves.</td>\n      <td>Legs</td>\n    </tr>\n    <tr>\n      <th>25</th>\n      <td>26</td>\n      <td>Chin-up</td>\n      <td>This is a body-weight workout targeted to ches...</td>\n      <td>Biceps</td>\n    </tr>\n    <tr>\n      <th>26</th>\n      <td>27</td>\n      <td>Dips</td>\n      <td>This is a body-weight workout targeted to tric...</td>\n      <td>Triceps</td>\n    </tr>\n    <tr>\n      <th>27</th>\n      <td>28</td>\n      <td>Hollow Hold</td>\n      <td>This is a body-weight workout targeted to core.</td>\n      <td>Abdominals</td>\n    </tr>\n    <tr>\n      <th>28</th>\n      <td>29</td>\n      <td>Lateral Lunge</td>\n      <td>This is a body-weight workout targeted to quads.</td>\n      <td>Legs</td>\n    </tr>\n    <tr>\n      <th>29</th>\n      <td>30</td>\n      <td>Pike Pushup</td>\n      <td>This is a body-weight workout targeted to tric...</td>\n      <td>Triceps</td>\n    </tr>\n    <tr>\n      <th>30</th>\n      <td>31</td>\n      <td>Side Plank Reach</td>\n      <td>This is a body-weight workout targeted to core.</td>\n      <td>Abdominals</td>\n    </tr>\n    <tr>\n      <th>31</th>\n      <td>32</td>\n      <td>Russian Twist</td>\n      <td>This is a body-weight workout targeted to core.</td>\n      <td>Abdominals</td>\n    </tr>\n    <tr>\n      <th>32</th>\n      <td>33</td>\n      <td>Forearm Plank</td>\n      <td>This is a body-weight workout targeted to core.</td>\n      <td>Abdominals</td>\n    </tr>\n    <tr>\n      <th>33</th>\n      <td>34</td>\n      <td>Decline Pushup</td>\n      <td>This is a body-weight workout targeted to tric...</td>\n      <td>Triceps</td>\n    </tr>\n    <tr>\n      <th>34</th>\n      <td>35</td>\n      <td>Bodyweight Glute Bridge</td>\n      <td>This is a body-weight workout targeted to glutes.</td>\n      <td>Legs</td>\n    </tr>\n    <tr>\n      <th>35</th>\n      <td>36</td>\n      <td>Bodyweight Reverse Lunge</td>\n      <td>This is a body-weight workout targeted to quad...</td>\n      <td>Legs</td>\n    </tr>\n    <tr>\n      <th>36</th>\n      <td>37</td>\n      <td>Supermans</td>\n      <td>This is a body-weight workout targeted to lowe...</td>\n      <td>Back</td>\n    </tr>\n    <tr>\n      <th>37</th>\n      <td>38</td>\n      <td>Chest Press</td>\n      <td>This is a cable workout targeted to chest.</td>\n      <td>Chest</td>\n    </tr>\n    <tr>\n      <th>38</th>\n      <td>39</td>\n      <td>Glute Kickback</td>\n      <td>This is a cable workout targeted to glutes.</td>\n      <td>Legs</td>\n    </tr>\n    <tr>\n      <th>39</th>\n      <td>40</td>\n      <td>Pullover</td>\n      <td>This is a cable workout targeted to lats.</td>\n      <td>Back</td>\n    </tr>\n    <tr>\n      <th>40</th>\n      <td>41</td>\n      <td>Cable Romanian Deadlift</td>\n      <td>This is a cable workout targeted to quads and ...</td>\n      <td>Legs</td>\n    </tr>\n    <tr>\n      <th>41</th>\n      <td>42</td>\n      <td>Hamstring Curl</td>\n      <td>This is a cable workout targeted to hamstrings.</td>\n      <td>Triceps</td>\n    </tr>\n    <tr>\n      <th>42</th>\n      <td>43</td>\n      <td>Pec Fly</td>\n      <td>This is a cable workout targeted to chest.</td>\n      <td>Chest</td>\n    </tr>\n    <tr>\n      <th>43</th>\n      <td>44</td>\n      <td>30 Degree Shrug</td>\n      <td>This is a cable workout targeted to shoulders.</td>\n      <td>Shoulders</td>\n    </tr>\n    <tr>\n      <th>44</th>\n      <td>45</td>\n      <td>Goblet Squat</td>\n      <td>This is a cable workout targeted to Quads.</td>\n      <td>Legs</td>\n    </tr>\n    <tr>\n      <th>45</th>\n      <td>46</td>\n      <td>Dumbbell Chest Fly</td>\n      <td>This is a dumbbell workout targeted to chest.</td>\n      <td>Chest</td>\n    </tr>\n    <tr>\n      <th>46</th>\n      <td>47</td>\n      <td>Neutral Overhead Press</td>\n      <td>This is a dumbbell workout targeted to shoulders.</td>\n      <td>Shoulders</td>\n    </tr>\n    <tr>\n      <th>47</th>\n      <td>48</td>\n      <td>Dumbbell Reverse Lunge</td>\n      <td>This is a dumbbell workout targeted to quads.</td>\n      <td>Legs</td>\n    </tr>\n    <tr>\n      <th>48</th>\n      <td>49</td>\n      <td>Wood Chopper</td>\n      <td>This is a dumbbell workout targeted to obliques.</td>\n      <td>Abdominals</td>\n    </tr>\n    <tr>\n      <th>49</th>\n      <td>50</td>\n      <td>Dumbbell Single Arm Row</td>\n      <td>This is a dumbbell workout targeted to back.</td>\n      <td>Back</td>\n    </tr>\n    <tr>\n      <th>50</th>\n      <td>51</td>\n      <td>Twisting Curl</td>\n      <td>This is a dumbbell workout targeted to biceps.</td>\n      <td>Biceps</td>\n    </tr>\n    <tr>\n      <th>51</th>\n      <td>52</td>\n      <td>Dumbbell Bench Press</td>\n      <td>This is a dumbbell workout targeted to chest.</td>\n      <td>Chest</td>\n    </tr>\n    <tr>\n      <th>52</th>\n      <td>53</td>\n      <td>Bulgarian Split Squat</td>\n      <td>This is a dumbbell workout targeted to glutes.</td>\n      <td>Glutes</td>\n    </tr>\n    <tr>\n      <th>53</th>\n      <td>54</td>\n      <td>Dumbbell Romanian Deadlift</td>\n      <td>This is a dumbbell workout targeted to hamstri...</td>\n      <td>Legs</td>\n    </tr>\n    <tr>\n      <th>54</th>\n      <td>55</td>\n      <td>Dumbbell Calf Raise</td>\n      <td>This is a dumbbell workout targeted to calves.</td>\n      <td>Legs</td>\n    </tr>\n    <tr>\n      <th>55</th>\n      <td>56</td>\n      <td>Dumbbell Goblet Squat</td>\n      <td>This is a dumbbell workout targeted to quads.</td>\n      <td>Legs</td>\n    </tr>\n    <tr>\n      <th>56</th>\n      <td>57</td>\n      <td>Dumbbell Lateral Raise</td>\n      <td>This is a dumbbell workout targeted to shoulders.</td>\n      <td>Shoulders</td>\n    </tr>\n    <tr>\n      <th>57</th>\n      <td>58</td>\n      <td>Laying Reverse Fly</td>\n      <td>This is a dumbbell workout targeted to shoulders.</td>\n      <td>Shoulders</td>\n    </tr>\n    <tr>\n      <th>58</th>\n      <td>59</td>\n      <td>Dumbbell Skullcrusher</td>\n      <td>This is a dumbbell workout targeted to triceps.</td>\n      <td>Triceps</td>\n    </tr>\n  </tbody>\n</table>\n</div>"
          },
          "metadata": {}
        }
      ]
    },
    {
      "cell_type": "code",
      "source": "tfidf = TfidfVectorizer(stop_words=\"english\")\ndf_videos['description'] = df_videos['description'].fillna('')\n# title_tfidf = tfidf.fit_transform(df_videos['title'])\ntfidf_matrix = tfidf.fit_transform(df_videos['description'])",
      "metadata": {
        "trusted": true
      },
      "execution_count": 9,
      "outputs": []
    },
    {
      "cell_type": "code",
      "source": "cosine_sim = linear_kernel(tfidf_matrix, tfidf_matrix)",
      "metadata": {
        "trusted": true
      },
      "execution_count": 10,
      "outputs": []
    },
    {
      "cell_type": "code",
      "source": "indices = pd.Series(df_videos.index, index = df_videos['title'])\nindices",
      "metadata": {
        "trusted": true
      },
      "execution_count": 11,
      "outputs": [
        {
          "execution_count": 11,
          "output_type": "execute_result",
          "data": {
            "text/plain": "title\nBand Calve Raises                0\nLeg Press                        1\nBand Pushup                      2\nBand Romanian Deadlift           3\nBand Row                         4\nBand Squat                       5\nKneeling Single Arm Pulldown     6\nBiceps Band Curl                 7\nKneeling Band Pushup             8\nBand Glutes Kickback             9\nBand Skullcrusher               10\nSit up                          11\nBent Over Row                   12\nLandmine Row                    13\nBarbell Biceps Curl             14\nInclined Bench Press            15\nHip Thrust                      16\nReverse Lunge                   17\nRomanian Deadlift               18\nHigh Bar Squat                  19\nSeated Calf Raise               20\nOver Head Press                 21\nUpright Row                     22\nSkullcrusher                    23\nCalf Raise                      24\nChin-up                         25\nDips                            26\nHollow Hold                     27\nLateral Lunge                   28\nPike Pushup                     29\nSide Plank Reach                30\nRussian Twist                   31\nForearm Plank                   32\nDecline Pushup                  33\nBodyweight Glute Bridge         34\nBodyweight Reverse Lunge        35\nSupermans                       36\nChest Press                     37\nGlute Kickback                  38\nPullover                        39\nCable Romanian Deadlift         40\nHamstring Curl                  41\nPec Fly                         42\n30 Degree Shrug                 43\nGoblet Squat                    44\nDumbbell Chest Fly              45\nNeutral Overhead Press          46\nDumbbell Reverse Lunge          47\nWood Chopper                    48\nDumbbell Single Arm Row         49\nTwisting Curl                   50\nDumbbell Bench Press            51\nBulgarian Split Squat           52\nDumbbell Romanian Deadlift      53\nDumbbell Calf Raise             54\nDumbbell Goblet Squat           55\nDumbbell Lateral Raise          56\nLaying Reverse Fly              57\nDumbbell Skullcrusher           58\ndtype: int64"
          },
          "metadata": {}
        }
      ]
    },
    {
      "cell_type": "code",
      "source": "indices['Band Row']",
      "metadata": {
        "trusted": true
      },
      "execution_count": 12,
      "outputs": [
        {
          "execution_count": 12,
          "output_type": "execute_result",
          "data": {
            "text/plain": "4"
          },
          "metadata": {}
        }
      ]
    },
    {
      "cell_type": "code",
      "source": "def get_recommendations(work_title, cosine_sim = cosine_sim):\n#     print(indices[work_title])\n    idx = indices[work_title]\n    sim_scores = enumerate(cosine_sim[idx])\n    sim_scores = sorted(sim_scores, key=lambda x: x[1], reverse=True)\n\n#     sim_scores = sorted(sim_scores, key = lambda x: any(x[1]), reverse = True)\n    sim_scores = sim_scores[1:11]\n#     for i in sim_scores:\n#         print(i)\n        \n        \n    sim_index = [i[0] for i in sim_scores]\n    print(sim_index)\n    print(df_videos['title'].iloc[sim_index])",
      "metadata": {
        "trusted": true
      },
      "execution_count": 13,
      "outputs": []
    },
    {
      "cell_type": "code",
      "source": "get_recommendations('Band Row')",
      "metadata": {
        "trusted": true
      },
      "execution_count": 14,
      "outputs": [
        {
          "name": "stdout",
          "text": "[6, 5, 2, 8, 9, 10, 0, 7, 3, 1]\n6     Kneeling Single Arm Pulldown\n5                       Band Squat\n2                      Band Pushup\n8             Kneeling Band Pushup\n9             Band Glutes Kickback\n10               Band Skullcrusher\n0                Band Calve Raises\n7                 Biceps Band Curl\n3           Band Romanian Deadlift\n1                        Leg Press\nName: title, dtype: object\n",
          "output_type": "stream"
        }
      ]
    },
    {
      "cell_type": "code",
      "source": "import pickle",
      "metadata": {
        "trusted": true
      },
      "execution_count": 15,
      "outputs": []
    },
    {
      "cell_type": "code",
      "source": "pickle.dump(df_videos, open('workvideo.pkl', 'wb'))",
      "metadata": {
        "trusted": true
      },
      "execution_count": 16,
      "outputs": []
    },
    {
      "cell_type": "code",
      "source": "df_videos['title'].values",
      "metadata": {
        "trusted": true
      },
      "execution_count": 17,
      "outputs": [
        {
          "execution_count": 17,
          "output_type": "execute_result",
          "data": {
            "text/plain": "array(['Band Calve Raises', 'Leg Press', 'Band Pushup',\n       'Band Romanian Deadlift', 'Band Row', 'Band Squat',\n       'Kneeling Single Arm Pulldown', 'Biceps Band Curl',\n       'Kneeling Band Pushup', 'Band Glutes Kickback',\n       'Band Skullcrusher', 'Sit up', 'Bent Over Row', 'Landmine Row',\n       'Barbell Biceps Curl', 'Inclined Bench Press', 'Hip Thrust',\n       'Reverse Lunge', 'Romanian Deadlift', 'High Bar Squat',\n       'Seated Calf Raise', 'Over Head Press', 'Upright Row',\n       'Skullcrusher', 'Calf Raise', 'Chin-up', 'Dips', 'Hollow Hold',\n       'Lateral Lunge', 'Pike Pushup', 'Side Plank Reach',\n       'Russian Twist', 'Forearm Plank', 'Decline Pushup',\n       'Bodyweight Glute Bridge', 'Bodyweight Reverse Lunge', 'Supermans',\n       'Chest Press', 'Glute Kickback', 'Pullover',\n       'Cable Romanian Deadlift', 'Hamstring Curl', 'Pec Fly',\n       '30 Degree Shrug', 'Goblet Squat', 'Dumbbell Chest Fly',\n       'Neutral Overhead Press', 'Dumbbell Reverse Lunge', 'Wood Chopper',\n       'Dumbbell Single Arm Row', 'Twisting Curl', 'Dumbbell Bench Press',\n       'Bulgarian Split Squat', 'Dumbbell Romanian Deadlift',\n       'Dumbbell Calf Raise', 'Dumbbell Goblet Squat',\n       'Dumbbell Lateral Raise', 'Laying Reverse Fly',\n       'Dumbbell Skullcrusher'], dtype=object)"
          },
          "metadata": {}
        }
      ]
    },
    {
      "cell_type": "code",
      "source": "pickle.dump(df_videos.to_dict(), open ('work_dict.pkl', 'wb'))",
      "metadata": {
        "trusted": true
      },
      "execution_count": 18,
      "outputs": []
    },
    {
      "cell_type": "code",
      "source": "pickle.dump(cosine_sim, open('similarity_latest.pkl', 'wb'))",
      "metadata": {
        "trusted": true
      },
      "execution_count": 21,
      "outputs": []
    },
    {
      "cell_type": "code",
      "source": "",
      "metadata": {},
      "execution_count": null,
      "outputs": []
    }
  ]
}